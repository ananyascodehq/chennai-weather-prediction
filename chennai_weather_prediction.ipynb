{
  "nbformat": 4,
  "nbformat_minor": 0,
  "metadata": {
    "colab": {
      "provenance": [],
      "authorship_tag": "ABX9TyMlskfGI/kNIExSJHjE2K6b",
      "include_colab_link": true
    },
    "kernelspec": {
      "name": "python3",
      "display_name": "Python 3"
    },
    "language_info": {
      "name": "python"
    }
  },
  "cells": [
    {
      "cell_type": "markdown",
      "metadata": {
        "id": "view-in-github",
        "colab_type": "text"
      },
      "source": [
        "<a href=\"https://colab.research.google.com/github/ananyascodehq/chennai-weather-prediction/blob/main/chennai_weather_prediction.ipynb\" target=\"_parent\"><img src=\"https://colab.research.google.com/assets/colab-badge.svg\" alt=\"Open In Colab\"/></a>"
      ]
    },
    {
      "cell_type": "code",
      "execution_count": null,
      "metadata": {
        "id": "XN2XWm2sw9Xo"
      },
      "outputs": [],
      "source": [
        "import pandas as pd, numpy as np\n",
        "from lightgbm import LGBMRegressor\n",
        "from xgboost import XGBRegressor"
      ]
    },
    {
      "cell_type": "code",
      "source": [
        "df = pd.read_csv(\"/kaggle/input/heat-code-by-fodse/chennai_weather_ml_competition_dataset.csv\")"
      ],
      "metadata": {
        "id": "AnnKHVkOxBCz"
      },
      "execution_count": null,
      "outputs": []
    },
    {
      "cell_type": "code",
      "source": [
        "# Datetime + cyclical\n",
        "df['dt'] = pd.to_datetime(df['date'] + ' ' + df['time'])\n",
        "df = df.assign(hour=df['dt'].dt.hour, dow=df['dt'].dt.dayofweek, month=df['dt'].dt.month,\n",
        "               hour_sin=np.sin(2*np.pi*df['dt'].dt.hour/24),\n",
        "               hour_cos=np.cos(2*np.pi*df['dt'].dt.hour/24),\n",
        "               month_sin=np.sin(2*np.pi*df['dt'].dt.month/12),\n",
        "               month_cos=np.cos(2*np.pi*df['dt'].dt.month/12))\n",
        "\n",
        "# Lags + rolling\n",
        "for c in ['temperature','humidity','wind_speed']:\n",
        "    for l in [1,6,12,24]:\n",
        "        df[f'{c}_lag{l}'] = df[c].shift(l)\n",
        "    for w in [6,24]:\n",
        "        df[f'{c}_roll{w}'] = df[c].shift(1).rolling(w).mean()\n",
        "\n",
        "# Safe interactions\n",
        "df = df.assign(\n",
        "    humid_temp = df['humidity'] * df['temperature_lag1'],  # use lagged temp\n",
        "    wind_press = df['wind_speed'] * df['pressure']\n",
        ")\n",
        "\n",
        "# Cleanup + features (drop raw hour/month + direct target use)\n",
        "df = df.dropna().reset_index(drop=True)\n",
        "features = [c for c in df.columns if c not in ['date','time','dt','temperature','hour','month', 'dow']]\n"
      ],
      "metadata": {
        "id": "88LAut5lxCvO"
      },
      "execution_count": null,
      "outputs": []
    },
    {
      "cell_type": "code",
      "source": [
        "X, y = df[features], df['temperature']\n",
        "split_idx = int(len(df)*0.8)\n",
        "X_train, X_test = X.iloc[:split_idx], X.iloc[split_idx:]\n",
        "y_train, y_test = y.iloc[:split_idx], y.iloc[split_idx:]\n",
        "\n",
        "lgb = LGBMRegressor(n_estimators=500, learning_rate=0.05, max_depth=6,\n",
        "                    subsample=0.8, colsample_bytree=0.8, random_state=42, verbose=-1).fit(X, y)\n",
        "xgb = XGBRegressor(n_estimators=500, learning_rate=0.05, max_depth=6,\n",
        "                   subsample=0.8, colsample_bytree=0.8, random_state=42).fit(X, y)\n"
      ],
      "metadata": {
        "id": "h5GpQd4vxFZq"
      },
      "execution_count": null,
      "outputs": []
    },
    {
      "cell_type": "code",
      "source": [
        "df['date'] = pd.to_datetime(df['date'])\n",
        "last_sunday = df[df['dow']==6]['date'].max().date()\n",
        "sunday = df[(df['dow']==6) & (df['date'].dt.date==last_sunday) & df['hour'].between(10,21)]\n",
        "sunday = sunday.drop_duplicates('hour').sort_values('hour')"
      ],
      "metadata": {
        "id": "j1N_GA7oxJCH"
      },
      "execution_count": null,
      "outputs": []
    },
    {
      "cell_type": "code",
      "source": [
        "from sklearn.metrics import mean_absolute_error, mean_squared_error, r2_score\n",
        "lgb_pred = lgb.predict(X_test)\n",
        "xgb_pred = xgb.predict(X_test)\n",
        "ens_pred = 0.8*xgb_pred + 0.2*lgb_pred\n",
        "\n",
        "df_metrics = pd.DataFrame([\n",
        "    {\"Model\": \"LGBRegressor\",\n",
        "     \"MAE\": mean_absolute_error(y_test, lgb_pred),\n",
        "     \"RMSE\": np.sqrt(mean_squared_error(y_test, lgb_pred)),\n",
        "     \"R2\": r2_score(y_test, lgb_pred)},\n",
        "    {\"Model\": \"XGBRegressor\",\n",
        "     \"MAE\": mean_absolute_error(y_test, xgb_pred),\n",
        "     \"RMSE\": np.sqrt(mean_squared_error(y_test, xgb_pred)),\n",
        "     \"R2\": r2_score(y_test, xgb_pred)},\n",
        "    {\"Model\": \"Ensemble\",\n",
        "     \"MAE\": mean_absolute_error(y_test, ens_pred),\n",
        "     \"RMSE\": np.sqrt(mean_squared_error(y_test, ens_pred)),\n",
        "     \"R2\": r2_score(y_test, ens_pred)}\n",
        "])\n",
        "\n",
        "df_metrics"
      ],
      "metadata": {
        "id": "1kszMEKTxLBK"
      },
      "execution_count": null,
      "outputs": []
    },
    {
      "cell_type": "code",
      "source": [
        "df['date'] = pd.to_datetime(df['date'])\n",
        "last_sunday = df[df['dow']==6]['date'].max().date()\n",
        "sunday = df[(df['dow']==6) & (df['date'].dt.date==last_sunday) & df['hour'].between(10,21)]\n",
        "sunday = sunday.drop_duplicates('hour').sort_values('hour')\n",
        "lgb_pred_sub = lgb.predict(sunday[features])\n",
        "xgb_pred_sub = xgb.predict(sunday[features])\n",
        "ens_pred_sub = 0.8*xgb_pred_sub + 0.2*lgb_pred_sub\n",
        "submission = pd.DataFrame({\n",
        "    \"ID\": range(1, 13),\n",
        "    \"temperature_prediction\": ens_pred_sub.round(2)\n",
        "})\n",
        "submission.to_csv(\"submission.csv\", index=False)"
      ],
      "metadata": {
        "id": "AX6yaUd7xM0W"
      },
      "execution_count": null,
      "outputs": []
    }
  ]
}